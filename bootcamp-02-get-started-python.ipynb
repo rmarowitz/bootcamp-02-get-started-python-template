{
  "cells": [
    {
      "cell_type": "markdown",
      "metadata": {
        "id": "T7uwkycgdylh"
      },
      "source": [
        "<img style=\"float: left;\" src=\"https://github.com/rmarowitz/bootcamp-02-get-started-python-template/blob/main/earth-lab-logo-rgb.png?raw=1\" width=\"150\" height=\"150\" />\n",
        "\n",
        "# Earth Analytics Education"
      ]
    },
    {
      "cell_type": "markdown",
      "metadata": {
        "id": "2z-FmkU5dyli"
      },
      "source": [
        "## Important  - Assignment Guidelines\n",
        "\n",
        "1. Before you submit your assignment to GitHub, make sure to run the entire notebook with a fresh kernel. To do this first, **restart the kernel** (in the menubar, select Kernel$\\rightarrow$Restart & Run All)\n",
        "2. Always replace the `raise NotImplementedError()` code with your code that addresses the activity challenge. If you don't replace that code, your notebook will not run.\n",
        "\n",
        "```\n",
        "# YOUR CODE HERE\n",
        "raise NotImplementedError()\n",
        "```\n",
        "\n",
        "3. Any open ended questions will have a \"YOUR ANSWER HERE\" within a markdown cell. Replace that text with your answer also formatted using Markdown.\n",
        "4. **DO NOT RENAME THIS NOTEBOOK File!** If the file name changes, the autograder will not grade your assignment properly.\n",
        "6. When you create a figure, comment out `plt.show()` to ensure the autograder can grade your plots. For figure cells, DO NOT DELETE the code that says `DO NOT REMOVE LINE BELOW`.\n",
        "\n",
        "```\n",
        "### DO NOT REMOVE LINE BELOW ###\n",
        "student_plot1_ax = nb.convert_axes(plt)\n",
        "```\n",
        "\n",
        "* Only include the package imports, code, and outputs that are required to run your homework assignment.\n",
        "* Be sure that your code can be run on any operating system. This means that:\n",
        "   1. the data should be downloaded in the notebook to ensure it's reproducible\n",
        "   2. all paths should be created dynamically using the `os.path.join`\n",
        "\n",
        "## Follow to PEP 8 Syntax Guidelines & Documentation\n",
        "\n",
        "* Run the `autopep8` tool on all cells prior to submitting (HINT: hit shift + the tool to run it on all cells at once!\n",
        "* Use clear and expressive names for variables. \n",
        "* Organize your code to support readability.\n",
        "* Check for code line length\n",
        "* Use comments and white space sparingly where it is needed\n",
        "* Make sure all python imports are at the top of your notebook and follow PEP 8 order conventions\n",
        "* Spell check your Notebook before submitting it.\n",
        "\n",
        "For all of the plots below, be sure to do the following:\n",
        "\n",
        "* Make sure each plot has a clear TITLE and, where appropriate, label the x and y axes. Be sure to include UNITS in your labels.\n"
      ]
    },
    {
      "cell_type": "markdown",
      "metadata": {
        "id": "_QXbCnlfdyli"
      },
      "source": [
        "### Add Your Name Below \n",
        "**Your Name:**"
      ]
    },
    {
      "cell_type": "markdown",
      "metadata": {
        "id": "YR-vNyR9dylj"
      },
      "source": [
        "<img style=\"float: left;\" src=\"https://github.com/rmarowitz/bootcamp-02-get-started-python-template/blob/main/colored-bar.png?raw=1\"/>"
      ]
    },
    {
      "cell_type": "markdown",
      "metadata": {
        "id": "XB5Vf8-Xdylj"
      },
      "source": [
        "---"
      ]
    },
    {
      "cell_type": "markdown",
      "metadata": {
        "deletable": false,
        "editable": false,
        "nbgrader": {
          "cell_type": "markdown",
          "checksum": "96d60d2806ee1b03c24c66c5c0be148b",
          "grade": false,
          "grade_id": "hw-instructions",
          "locked": true,
          "schema_version": 3,
          "solution": false
        },
        "id": "lGa9f_yUdylj"
      },
      "source": [
        "# Week 2 Homework\n",
        "\n",
        "Prior to starting assignment 2, be sure you have read the following chapters of the Introduction to Earth Data Science online textbook. \n",
        "\n",
        "* **Chapter 10 from Section 4** <a href=\"https://www.earthdatascience.org/courses/intro-to-earth-data-science/python-code-fundamentals/get-started-using-python/lists/\" target=\"_blank\">Chapter 10 - Introduction to PythonIntro to Earth Data Science</a>\n",
        "* **Chapter 11 from Section 4** <a href=\"https://www.earthdatascience.org/courses/intro-to-earth-data-science/python-code-fundamentals/use-python-packages/\" target=\"_blank\">Chapter 11 - Python Packages and Environments</a>\n",
        "* **Chapter 16 from Section 7** <a href=\"https://www.earthdatascience.org/courses/intro-to-earth-data-science/write-efficient-python-code/intro-to-clean-code/\" target=\"_blank\">Chapter 16 - Introduction to Clean Code</a>\n",
        "\n",
        "These chapters cover:\n",
        "\n",
        "* how to create and work with variables and lists \n",
        "* more background on **Python** packages and environments\n",
        "* how to write clean code, including an introduction to the PEP 8 style guide for **Python**.   \n",
        "\n",
        "## Important - Please Read Each Cell Carefully and Complete the Entire Assignment\n",
        "\n",
        "Read the instructions below for each question carefully. Then complete the required tasks.\n",
        "\n",
        "As you complete this assignment, be sure to:\n",
        "\n",
        "1. use clear and expressive names for variables\n",
        "2. organize your code to support readability\n",
        "3. follow pep 8 standards for code syntax \n",
        "\n",
        "We will grade the quality of your code! \n",
        "\n",
        "The PEP 8 tool in Jupyter may help you with checking syntax. You will need to [install the jupyter notebook extensions javascript and css files](https://jupyter-contrib-nbextensions.readthedocs.io/en/latest/install.html).\n",
        "\n",
        "### How To Turn On Scratchpad and the PEP 8 Tool in Jupyter\n",
        "<img style=\"float: left;\" src=\"https://github.com/rmarowitz/bootcamp-02-get-started-python-template/blob/main/turn-on-scratchpad.gif?raw=1\"/>\n"
      ]
    },
    {
      "cell_type": "markdown",
      "source": [],
      "metadata": {
        "id": "962_PNSXo0LQ"
      }
    },
    {
      "cell_type": "markdown",
      "metadata": {
        "deletable": false,
        "editable": false,
        "nbgrader": {
          "cell_type": "markdown",
          "checksum": "0d4bcfa96112813e347a2756808ca51b",
          "grade": false,
          "grade_id": "question-student-imports",
          "locked": true,
          "schema_version": 3,
          "solution": false
        },
        "id": "bLeiAsCfdylj"
      },
      "source": [
        "## Import Python Packages\n",
        "\n",
        "In the cell below, copy and paste the following code **after the line for `Import necessary packages`**, replacing `raise NotImplementedError()` with your code:\n",
        "```python\n",
        "import matplotlib.pyplot as plt\n",
        "```\n",
        "\n",
        "This line of code will import the `matplotlib` package, which you will use to create a plot.\n",
        "\n",
        "You will learn more about using different Python packages in the next few weeks. "
      ]
    },
    {
      "cell_type": "code",
      "execution_count": 1,
      "metadata": {
        "deletable": false,
        "nbgrader": {
          "cell_type": "code",
          "checksum": "37158714975e4ff9d1b46a9272aae251",
          "grade": false,
          "grade_id": "student-imports-answer",
          "locked": false,
          "schema_version": 3,
          "solution": true,
          "task": false
        },
        "id": "9Jn7bTPldylj"
      },
      "outputs": [],
      "source": [
        "# Import necessary packages\n",
        "\n",
        "import matplotlib.pyplot as plt"
      ]
    },
    {
      "cell_type": "markdown",
      "metadata": {
        "id": "A0z0_h8gdylk"
      },
      "source": [
        "<img style=\"float: left;\" src=\"https://github.com/rmarowitz/bootcamp-02-get-started-python-template/blob/main/colored-bar.png?raw=1\"/>"
      ]
    },
    {
      "cell_type": "markdown",
      "metadata": {
        "id": "QtdqAn8adylk"
      },
      "source": [
        "# Use the test cells to make sure you're on the right track\n",
        "\n",
        "When you run it, the cells below will test that you correctly imported `matplotlib.pyplot` in the cell above! Do not modify anything in the two cells below. "
      ]
    },
    {
      "cell_type": "code",
      "execution_count": null,
      "metadata": {
        "deletable": false,
        "nbgrader": {
          "cell_type": "code",
          "checksum": "80a6a8dcfe185cf3abecf0d7a931dcbf",
          "grade": false,
          "grade_id": "test-pyplot-import",
          "locked": false,
          "schema_version": 3,
          "solution": true,
          "task": false
        },
        "id": "Iv2FaWBPdylk"
      },
      "outputs": [],
      "source": [
        "# YOUR CODE HERE\n",
        "raise NotImplementedError()"
      ]
    },
    {
      "cell_type": "code",
      "execution_count": null,
      "metadata": {
        "deletable": false,
        "editable": false,
        "nbgrader": {
          "cell_type": "code",
          "checksum": "bca361942a3735a048471b2bbd5eb3e2",
          "grade": true,
          "grade_id": "test-pyplot-import-points",
          "locked": true,
          "points": 5,
          "schema_version": 3,
          "solution": false,
          "task": false
        },
        "id": "qk7hbHpPdylk"
      },
      "outputs": [],
      "source": [
        "# DO NOT MODIFY THIS CELL!\n",
        "\n",
        "import_points = 0\n",
        "\n",
        "if import_pyplot:\n",
        "    import_points += 5\n",
        "\n",
        "print((\"\\n \\u27A1 You received {} out of 5 points \"\n",
        "       \"for importing the pyplot module.\"\n",
        "       .format(import_points)))\n",
        "import_points"
      ]
    },
    {
      "cell_type": "markdown",
      "metadata": {
        "id": "nHHLf1kndylk"
      },
      "source": [
        "<img style=\"float: left;\" src=\"https://github.com/rmarowitz/bootcamp-02-get-started-python-template/blob/main/colored-bar.png?raw=1\"/>"
      ]
    },
    {
      "cell_type": "markdown",
      "metadata": {
        "id": "0RfCosaLdylk"
      },
      "source": [
        "## Assignment Data \n",
        "This data in this assignment, represent average monthly temperature for <a href=\"https://www.esrl.noaa.gov/psd/boulder/Boulder.mm.html\" target=\"_blank\">Boulder, Colorado, provided by the U.S. National Oceanic and Atmospheric Administration (NOAA).</a> "
      ]
    },
    {
      "cell_type": "markdown",
      "metadata": {
        "deletable": false,
        "editable": false,
        "nbgrader": {
          "cell_type": "markdown",
          "checksum": "10e5aaffaa90803dad9c688360705557",
          "grade": false,
          "grade_id": "student-create-variable-question",
          "locked": true,
          "schema_version": 3,
          "solution": false,
          "task": false
        },
        "id": "k7-1eRPKdylk"
      },
      "source": [
        "## Create Variables in Python\n",
        "\n",
        "Add your code to the cell below to complete the following task:\n",
        "\n",
        "* Create a unique variable that represents the monthly average temperature (Fahrenheit) for each month January through June.\n",
        "* Name each variable using the month column name. You should have 6 variables in total. (`jan`, `feb`, `march`, `april`, `may` and `june`)\n",
        "\n",
        "IMPORTANT: Python variable names are CASE SENSITIVE! Be sure that you spell the variable name correctly and consider capitalization.\n",
        "\n",
        "Month  | Temperature (Fahrenheit) |\n",
        "--- | --- |\n",
        "jan | 32.0 |\n",
        "feb | 35.6 |\n",
        "mar | 41.0 |\n",
        "apr | 49.2 |\n",
        "may | 57.9 |\n",
        "june | 67.2 |"
      ]
    },
    {
      "cell_type": "code",
      "execution_count": null,
      "metadata": {
        "deletable": false,
        "nbgrader": {
          "cell_type": "code",
          "checksum": "d120c3eb26ea1ba4df25990f94d0a4e4",
          "grade": false,
          "grade_id": "student-create-variables-answer",
          "locked": false,
          "schema_version": 3,
          "solution": true,
          "task": false
        },
        "id": "MOzB9867dyll"
      },
      "outputs": [],
      "source": [
        "# Create variables of monthly temp\n",
        "\n",
        "# YOUR CODE HERE\n",
        "raise NotImplementedError()"
      ]
    },
    {
      "cell_type": "code",
      "execution_count": null,
      "metadata": {
        "deletable": false,
        "editable": false,
        "nbgrader": {
          "cell_type": "code",
          "checksum": "16b50736ec737c5af152a9edaae1855b",
          "grade": true,
          "grade_id": "create-variables-tests",
          "locked": true,
          "points": 6,
          "schema_version": 3,
          "solution": false,
          "task": false
        },
        "id": "s_sVgKqZdyll"
      },
      "outputs": [],
      "source": [
        "# DO NOT MODIFY THIS CELL!\n",
        "# Did you create all of the variables? Run this cell to find out\n",
        "\n",
        "variables_points = 0\n",
        "\n",
        "variables_exist = False\n",
        "\n",
        "try:\n",
        "    checksum = round(jan + feb + mar + apr + may + june, 1)\n",
        "    print(\"\\u2705 Nice work - all of your variables exist!\")\n",
        "    variables_points += 3\n",
        "    variables_exist = True\n",
        "except NameError as ne:\n",
        "    print((\"\\u274C Oops! At least one of your variables is missing. \"\n",
        "           \"Be sure that all your variables are spelled exactly as it is \"\n",
        "           \"represented in the Month column in the table above\"), \n",
        "          ne)\n",
        "\n",
        "if variables_exist:\n",
        "    if checksum == 282.9:\n",
        "        print(\"\\u2705 All of your variables are set to the correct values.\")\n",
        "        variables_points += 3\n",
        "    else:\n",
        "        print((\"\\u274C You variables exist, but at least one does not have \"\n",
        "               \"the correct value (the sum is incorrect).\"))\n",
        "\n",
        "print((\"\\n \\u27A1 You received {} out of 5 points for creating the required \"\n",
        "       \"variables.\"\n",
        "       .format(variables_points)))\n",
        "variables_points"
      ]
    },
    {
      "cell_type": "markdown",
      "metadata": {
        "deletable": false,
        "editable": false,
        "nbgrader": {
          "cell_type": "markdown",
          "checksum": "905b2f7d0c9c4aa9f1a51ce4f92c99e0",
          "grade": false,
          "grade_id": "question-calc-variables",
          "locked": true,
          "schema_version": 3,
          "solution": false,
          "task": false
        },
        "id": "4VaaOBKadyll"
      },
      "source": [
        "## Run Calculations on Variables\n",
        "\n",
        "In the cell below, complete the following task:\n",
        "\n",
        "* Convert the 6 variable values for January through June that you created above **from Fahrenheit to Celsius** using the following equation:\n",
        "    * Celsius = (Fahrenheit - 32) / 1.8\n",
        "    * Note that Python by default follows the standard rules of math order of operations. This means that division would happen BEFORE subtraction. Including `Fahrenheit - 32` within parenthesis `()` tells `Python` to execute that calculation first.  "
      ]
    },
    {
      "cell_type": "code",
      "execution_count": null,
      "metadata": {
        "deletable": false,
        "nbgrader": {
          "cell_type": "code",
          "checksum": "109863b12b4de90b2d3f37ec50f732f0",
          "grade": false,
          "grade_id": "student-calc-variables-answer",
          "locked": false,
          "schema_version": 3,
          "solution": true,
          "task": false
        },
        "id": "vQILJY07dyll"
      },
      "outputs": [],
      "source": [
        "# Convert variable values from Fahrenheit to Celsius\n",
        "\n",
        "# YOUR CODE HERE\n",
        "raise NotImplementedError()"
      ]
    },
    {
      "cell_type": "code",
      "execution_count": null,
      "metadata": {
        "deletable": false,
        "editable": false,
        "nbgrader": {
          "cell_type": "code",
          "checksum": "49d53b44ba5fe6dec1f7bc4c91ed0398",
          "grade": true,
          "grade_id": "student-calc-variables-tests",
          "locked": true,
          "points": 6,
          "schema_version": 3,
          "solution": false,
          "task": false
        },
        "id": "XenWrO2gdyll"
      },
      "outputs": [],
      "source": [
        "# DO NOT MODIFY THIS CELL\n",
        "\n",
        "variable_mod_points = 0\n",
        "\n",
        "checksum_celsius = 50.5\n",
        "\n",
        "if round(jan + feb + mar + apr + may + june, 1) == checksum_celsius:\n",
        "    print((\"\\u2705 You modified the variables you created above correctly, \"\n",
        "           \"good job!\"))\n",
        "    variable_mod_points += 6\n",
        "else:\n",
        "    print((\"\\u274C You did not modify the variables as expected. Make sure \"\n",
        "           \"you assigned the output of your modification back to the \"\n",
        "           \"variable.\"))\n",
        "\n",
        "print((\"\\n \\u27A1 You received {} out of 5 points for reassigning the \"\n",
        "       \"variable's values.\"\n",
        "       .format(variable_mod_points)))\n",
        "\n",
        "variable_mod_points"
      ]
    },
    {
      "cell_type": "markdown",
      "metadata": {
        "id": "KmD27Iu-dyll"
      },
      "source": [
        "<img style=\"float: left;\" src=\"https://github.com/rmarowitz/bootcamp-02-get-started-python-template/blob/main/colored-bar.png?raw=1\"/>"
      ]
    },
    {
      "cell_type": "markdown",
      "metadata": {
        "deletable": false,
        "editable": false,
        "nbgrader": {
          "cell_type": "markdown",
          "checksum": "c44d9e3756f01d51fbac55c7026fd886",
          "grade": false,
          "grade_id": "question-create-list-temp",
          "locked": true,
          "schema_version": 3,
          "solution": false,
          "task": false
        },
        "id": "81a-IvKVdyll"
      },
      "source": [
        "## Create List of Converted Monthly Temperatures\n",
        "\n",
        "In the cell below, add your code **after the line for `Your Code Here`**, replacing `raise NotImplementedError()` with your code, to complete the following task:\n",
        "\n",
        "* Create a Python object of type **list** called **temp** for average monthly temperature for Boulder, CO containing the **variables for January to June in the Celsius degrees**. \n",
        "* Call the list you created at the end of the cell. For example:\n",
        "```\n",
        "list = [value1, value2]\n",
        "list\n",
        "```\n",
        "IMPORTANT: If you don't call the object at the end of your cell, the autograder will break. "
      ]
    },
    {
      "cell_type": "code",
      "execution_count": null,
      "metadata": {
        "deletable": false,
        "nbgrader": {
          "cell_type": "code",
          "checksum": "8157f0bcaaf636fe9e337cb0d1bfbb08",
          "grade": false,
          "grade_id": "student-create-list-temp-answer",
          "locked": false,
          "schema_version": 3,
          "solution": true,
          "task": false
        },
        "id": "HhmQrZlbdylm"
      },
      "outputs": [],
      "source": [
        "# Create list of converted monthly temps\n",
        "\n",
        "# YOUR CODE HERE\n",
        "raise NotImplementedError()"
      ]
    },
    {
      "cell_type": "code",
      "execution_count": null,
      "metadata": {
        "deletable": false,
        "editable": false,
        "nbgrader": {
          "cell_type": "code",
          "checksum": "0f35be70111ad0818be3c0304a7aed25",
          "grade": true,
          "grade_id": "student-create-list-temp-tests",
          "locked": true,
          "points": 7,
          "schema_version": 3,
          "solution": false,
          "task": false
        },
        "id": "HiHD6OuSdylm"
      },
      "outputs": [],
      "source": [
        "# DO NOT MODIFY THIS CELL!\n",
        "\n",
        "student_temp = _\n",
        "\n",
        "variable_list_points = 0\n",
        "is_list = False\n",
        "\n",
        "if isinstance(student_temp, list):\n",
        "    print((\"\\u2705 Nice work! The object you called at the end of the cell \"\n",
        "           \"is of type - list\"))\n",
        "    variable_list_points += 2\n",
        "    is_list = True\n",
        "else:\n",
        "    print((\"\\u274C Oops! Did you create a list variable and call it at the \"\n",
        "           \"end of the cell? Please reread the directions.\"))\n",
        "if is_list:\n",
        "    if len(student_temp) == 6:\n",
        "        print((\"\\u2705 Nice work! Your list has the correct number of \"\n",
        "               \"elements\"))\n",
        "        variable_list_points += 2\n",
        "    else:\n",
        "        print((\"\\u274C Oops - your list is not the correct length.\"))\n",
        "    \n",
        "if round(sum(student_temp), 1) == checksum_celsius:\n",
        "    print((\"\\u2705 The list you created has the correct values in it, good \"\n",
        "           \"job!\"))\n",
        "    variable_list_points += 3\n",
        "else:\n",
        "    print(\"\\u274C The list you created does not contain the correct values.\")\n",
        "\n",
        "print((\"\\n \\u27A1 You received {} out of 5 points for creating a list of the \"\n",
        "       \"temperatures January-June.\")\n",
        "       .format(variable_list_points))\n",
        "\n",
        "variable_list_points"
      ]
    },
    {
      "cell_type": "markdown",
      "metadata": {
        "deletable": false,
        "editable": false,
        "nbgrader": {
          "cell_type": "markdown",
          "checksum": "1242e3bf6d612cb0f2e3999efe9c9606",
          "grade": false,
          "grade_id": "question-add-values-list",
          "locked": true,
          "schema_version": 3,
          "solution": false,
          "task": false
        },
        "id": "aIhRob0qdylm"
      },
      "source": [
        "## Add Values to List of Converted Monthly Temperatures\n",
        "\n",
        "In the cell below, replace the  `raise NotImplementedError()` with your code to complete the following task:\n",
        "\n",
        "* Add the average monthly temperature values for **July to December in the Celsius degrees** (in the table below) to your list called `temp` of converted monthly temperatures. \n",
        "* **Print your completed list of converted monthly temperatures (in Celsius degrees).** \n",
        "\n",
        "Month  | Temperature (Celsius) |\n",
        "--- | --- |\n",
        "July | 22.8 |\n",
        "Aug | 21.7 |\n",
        "Sept | 16.7 |\n",
        "Oct | 11.6 |\n",
        "Nov | 4.9 |\n",
        "Dec | 1.0 |"
      ]
    },
    {
      "cell_type": "code",
      "execution_count": null,
      "metadata": {
        "deletable": false,
        "nbgrader": {
          "cell_type": "code",
          "checksum": "88ea88a0a06cdd3aaee5802cac4ac7b8",
          "grade": false,
          "grade_id": "student-add-values-list",
          "locked": false,
          "schema_version": 3,
          "solution": true,
          "task": false
        },
        "id": "l_TexukHdylm"
      },
      "outputs": [],
      "source": [
        "# YOUR CODE HERE\n",
        "raise NotImplementedError()"
      ]
    },
    {
      "cell_type": "code",
      "execution_count": null,
      "metadata": {
        "deletable": false,
        "editable": false,
        "nbgrader": {
          "cell_type": "code",
          "checksum": "c379797f9578045e49800c6e31726d33",
          "grade": true,
          "grade_id": "test-add-values-list",
          "locked": true,
          "points": 7,
          "schema_version": 3,
          "solution": false,
          "task": false
        },
        "id": "K1jjgJIodylm"
      },
      "outputs": [],
      "source": [
        "# DO NOT MODIFY THIS CELL\n",
        "\n",
        "student_temp_long = _\n",
        "\n",
        "temp_long_points = 0\n",
        "is_list = False\n",
        "\n",
        "if isinstance(student_temp_long, list):\n",
        "    print((\"\\u2705 Nice work! The object you called at the end of the cell \"\n",
        "           \"is of type - list\"))\n",
        "    temp_long_points += 2\n",
        "    is_list = True\n",
        "else:\n",
        "    print((\"\\u274C Oops! Did you create a list variable and call it at the \"\n",
        "           \"end of the cell? Please reread the directions.\"))\n",
        "\n",
        "if is_list:\n",
        "    if len(student_temp_long) == 12:\n",
        "        print((\"\\u2705 Nice work! Your list has the correct number of \"\n",
        "               \"elements\"))\n",
        "        temp_long_points += 2\n",
        "    else:\n",
        "        print((\"\\u274C Oops - your list is not the correct length.\"))\n",
        "    \n",
        "if round(sum(student_temp_long), 1) == 129.2:\n",
        "    print((\"\\u2705 The list you created has the correct values in it, good \"\n",
        "           \"job!\"))\n",
        "    temp_long_points += 3\n",
        "else:\n",
        "    print(\"\\u274C The list you created does not contain the correct values.\")\n",
        "\n",
        "print((\"\\n \\u27A1 You received {} out of 5 points for creating a list of the \"\n",
        "       \"temperatures January-June.\")\n",
        "       .format(temp_long_points))\n",
        "\n",
        "temp_long_points"
      ]
    },
    {
      "cell_type": "markdown",
      "metadata": {
        "id": "LwpU-Xigdylm"
      },
      "source": [
        "<img style=\"float: left;\" src=\"https://github.com/rmarowitz/bootcamp-02-get-started-python-template/blob/main/colored-bar.png?raw=1\"/>"
      ]
    },
    {
      "cell_type": "markdown",
      "metadata": {
        "deletable": false,
        "editable": false,
        "nbgrader": {
          "cell_type": "markdown",
          "checksum": "e856107aa976305fd8d8906adb6b63ff",
          "grade": false,
          "grade_id": "question-create-list-months",
          "locked": true,
          "schema_version": 3,
          "solution": false,
          "task": false
        },
        "id": "yQ0Y1MmOdylm"
      },
      "source": [
        "## Create List of Month Names\n",
        "\n",
        "In the cell below, add your code **after the line for `Your Code Here`**, replacing `raise NotImplementedError()` with your code, to complete the following task:\n",
        "\n",
        "* Create a list containing the month names using **full-length** month names (e.g. January, February).\n",
        "* Call your list at the end of the cell, like you did with the `temp` list. "
      ]
    },
    {
      "cell_type": "code",
      "execution_count": null,
      "metadata": {
        "deletable": false,
        "nbgrader": {
          "cell_type": "code",
          "checksum": "6bc260263efef992d4338551efaa245a",
          "grade": false,
          "grade_id": "student-create-list-months-answer",
          "locked": false,
          "schema_version": 3,
          "solution": true,
          "task": false
        },
        "id": "zTTfBCLBdylm"
      },
      "outputs": [],
      "source": [
        "# Create list of month names\n",
        "\n",
        "# YOUR CODE HERE\n",
        "raise NotImplementedError()"
      ]
    },
    {
      "cell_type": "code",
      "execution_count": null,
      "metadata": {
        "deletable": false,
        "editable": false,
        "nbgrader": {
          "cell_type": "code",
          "checksum": "e288ad9f02ff6740afca20542fb2ff9e",
          "grade": true,
          "grade_id": "student-create-list-months-tests",
          "locked": true,
          "points": 7,
          "schema_version": 3,
          "solution": false,
          "task": false
        },
        "id": "iTtZkXj_dylm"
      },
      "outputs": [],
      "source": [
        "# DO NOT MODIFY THIS CELL\n",
        "\n",
        "student_months = _\n",
        "student_months_points = 0\n",
        "is_list = False\n",
        "\n",
        "if isinstance(student_months, list):\n",
        "    print((\"\\u2705 Nice work! The object you called at the end of the cell \"\n",
        "           \"is of type - list.\"))\n",
        "    student_months_points += 2\n",
        "    is_list = True\n",
        "else:\n",
        "    print((\"\\u274C Oops! Did you create a list variable and call it at the \"\n",
        "           \"end of the cell?\"))\n",
        "if is_list:\n",
        "    if all([isinstance(m, str) for m in student_months]):    \n",
        "        print((\"\\u2705 Nice work! All your list elements are strings.\"))\n",
        "        student_months_points += 2\n",
        "        is_list = True\n",
        "    else:\n",
        "        print((\"\\u274C Oops! Does your list contain strings?\"))\n",
        "\n",
        "    lengths = [len(m) for m in student_months]\n",
        "\n",
        "    if lengths == [7, 8, 5, 5, 3, 4, 4, 6, 9, 7, 8, 8]:\n",
        "        print(\"\\u2705 Your months list contains all of the correct values!\")\n",
        "        student_months_points += 3\n",
        "    else:\n",
        "        print((\"\\u274C Your months list does not contain all of the correct \"\n",
        "               \"values.\"))\n",
        "\n",
        "print((\"\\n \\u27A1 You received {} out of 5 points for creating a list with \"\n",
        "       \"month names in it.\"\n",
        "       .format(student_months_points)))\n",
        "student_months_points"
      ]
    },
    {
      "cell_type": "markdown",
      "metadata": {
        "deletable": false,
        "editable": false,
        "nbgrader": {
          "cell_type": "markdown",
          "checksum": "d32a260336b8b46fb0783fe476fc77f6",
          "grade": false,
          "grade_id": "question-update-list",
          "locked": true,
          "schema_version": 3,
          "solution": false,
          "task": false
        },
        "id": "8WS2sdDXdyln"
      },
      "source": [
        "## Update List of Month Names\n",
        "\n",
        "In the cell below, add your code **after the line for `Abbreviate month names`**, replacing `raise NotImplementedError()` with your code, to complete the following task:\n",
        "\n",
        "* Update the items in your list containing the month names from **full-length** month names (e.g. January) to **abbreviated** month names (e.g. Jan).\n",
        "* Call the updated list at the end of the cell. \n",
        "\n",
        "See the table below for the abbreviations:\n",
        "\n",
        "Month  | Abbreviation |\n",
        "--- | --- |\n",
        "January | Jan |\n",
        "February | Feb |\n",
        "March | Mar |\n",
        "April | Apr |\n",
        "May | May |\n",
        "June | June |\n",
        "July | July |\n",
        "August | Aug |\n",
        "September | Sept |\n",
        "October | Oct |\n",
        "November | Nov |\n",
        "December | Dec |"
      ]
    },
    {
      "cell_type": "code",
      "execution_count": null,
      "metadata": {
        "deletable": false,
        "nbgrader": {
          "cell_type": "code",
          "checksum": "eccc168df4ac2eaeecc1fd97332a2ce0",
          "grade": false,
          "grade_id": "student-update-list-answer",
          "locked": false,
          "schema_version": 3,
          "solution": true,
          "task": false
        },
        "id": "ornUYDrTdyln"
      },
      "outputs": [],
      "source": [
        "# Abbreviate month names\n",
        "\n",
        "# YOUR CODE HERE\n",
        "raise NotImplementedError()"
      ]
    },
    {
      "cell_type": "code",
      "execution_count": null,
      "metadata": {
        "deletable": false,
        "editable": false,
        "nbgrader": {
          "cell_type": "code",
          "checksum": "9824b35a05dbb6d304365fffccea1248",
          "grade": true,
          "grade_id": "student-update-list-tests",
          "locked": true,
          "points": 7,
          "schema_version": 3,
          "solution": false,
          "task": false
        },
        "id": "XIXADwrwdyln"
      },
      "outputs": [],
      "source": [
        "# DO NOT MODIFY THIS CELL\n",
        "\n",
        "student_months_2 = _\n",
        "student_months_2_points = 0\n",
        "is_list = False\n",
        "\n",
        "if isinstance(student_months_2, list):\n",
        "    print((\"\\u2705 Nice work! The object you called at the end of the cell \"\n",
        "           \"is of type - list.\"))\n",
        "    student_months_2_points += 2\n",
        "    is_list = True\n",
        "else:\n",
        "    print((\"\\u274C Oops! Did you create a list variable and call it at the \"\n",
        "           \"end of the cell? Please reread the directions.\"))\n",
        "\n",
        "if is_list:\n",
        "    if all([isinstance(m, str) for m in student_months_2]):    \n",
        "        print((\"\\u2705 Nice work! All your list elements are strings.\"))\n",
        "        student_months_2_points += 2\n",
        "        is_list = True\n",
        "    else:\n",
        "        print((\"\\u274C Oops! Does your list contain strings?\"))\n",
        "        \n",
        "    lengths_2 = [len(m) for m in student_months_2]\n",
        "    if lengths_2 == [3, 3, 3, 3, 3, 4, 4, 3, 4, 3, 3, 3]:\n",
        "        print((\"\\u2705 Your modified list of month names has the correct \"\n",
        "               \"values in it.\"))\n",
        "        student_months_2_points += 3\n",
        "    else:\n",
        "        print((\"\\u274C Your modified list of month names does not have the \"\n",
        "               \"correct values in it.\"))\n",
        "\n",
        "print((\"\\n \\u27A1 You received {} out of 5 points for modifying the list \"\n",
        "       \"of month names.\"\n",
        "       .format(student_months_2_points)))\n",
        "\n",
        "student_months_2_points"
      ]
    },
    {
      "cell_type": "markdown",
      "metadata": {
        "id": "EIVGCYvMdyln"
      },
      "source": [
        "<img style=\"float: left;\" src=\"https://github.com/rmarowitz/bootcamp-02-get-started-python-template/blob/main/colored-bar.png?raw=1\"/>"
      ]
    },
    {
      "cell_type": "markdown",
      "metadata": {
        "deletable": false,
        "editable": false,
        "nbgrader": {
          "cell_type": "markdown",
          "checksum": "973bd794ca334a8cfa940d0d3e6671b8",
          "grade": false,
          "grade_id": "question-plot",
          "locked": true,
          "points": 20,
          "schema_version": 3,
          "solution": false,
          "task": true
        },
        "id": "elB-0KP7dyln"
      },
      "source": [
        "## Create Plot From Lists (15 Points)\n",
        "\n",
        "In the cell below, add your code **after the line for `Your Code Here`**, replacing `raise NotImplementedError()` with your code, to complete the following task:\n",
        "\n",
        "* Create a **red bar** plot (2 pts) of the average monthly temperature for Boulder, CO:\n",
        "    * Be sure to use the lists you created in previous questions for **temperatures in Celsius** (4 pts) and **abbreviated month names** (4 pts). \n",
        "    * Be sure to include an appropriate title for your plot (2 pts).\n",
        "    * Be sure to include clear labels for the x-axis (2 pts) and y-axis (2 pts), **including the units of measurement** where appropriate (2 pts).\n",
        "\n",
        "For your titles and labels, be sure to think about the following pieces of information that could help someone easily interpret the plot:\n",
        "* geographic coverage or extent of data.\n",
        "* duration or temporal extent of the data.\n",
        "* what was actually measured and/or represented by the data.\n",
        "* units of measurement.\n",
        "\n",
        "### Plotting Resources on earthdatascience.org\n",
        "\n",
        "* <a href=\"https://www.earthdatascience.org/courses/scientists-guide-to-plotting-data-in-python/plot-with-matplotlib/introduction-to-matplotlib-plots/customize-plot-colors-labels-matplotlib/\" target=\"_blank\">Check out our introduction to customizing plots in our online plotting textbook for more on plotting. </a>\n",
        "* HINT: At the very top of this notebook you will find some example code to produce a plot. This may also help you create your plot. \n"
      ]
    },
    {
      "cell_type": "code",
      "execution_count": null,
      "metadata": {
        "deletable": false,
        "nbgrader": {
          "cell_type": "code",
          "checksum": "8ef88d676e9258ef11ead53b2f755ef1",
          "grade": false,
          "grade_id": "student-create-plot-1-answer",
          "locked": false,
          "schema_version": 3,
          "solution": true,
          "task": false
        },
        "id": "5tw9fjOFdyln"
      },
      "outputs": [],
      "source": [
        "# Create plot\n",
        "\n",
        "# YOUR CODE HERE\n",
        "raise NotImplementedError()"
      ]
    },
    {
      "cell_type": "markdown",
      "metadata": {
        "deletable": false,
        "editable": false,
        "nbgrader": {
          "cell_type": "markdown",
          "checksum": "0952a8effeafdc494df5aa3426b08ca3",
          "grade": false,
          "grade_id": "question-explain-plot",
          "locked": true,
          "points": 0,
          "schema_version": 3,
          "solution": false,
          "task": true
        },
        "id": "0ElMwzjWdyln"
      },
      "source": [
        "## Explain Your Plot\n",
        "\n",
        "In the Markdown cell below, answer the following questions about your plot using a **numbered list**.\n",
        "\n",
        "1. Which month has the lowest average temperature, and which has the highest? How much of a difference is there between the lowest and highest average temperatures?\n",
        "\n",
        "2. Boulder, CO is in the Northern hemisphere. How might the results look different if you were plotting data from a location in the Southern hemisphere?\n",
        "\n",
        "3. Boulder, CO is at a moderately high latitude (~40 degrees North). How might the results look different if you were plotting data from a location closer to the equator?\n",
        "\n",
        "Remove any existing text in the cell before adding your answer.\n",
        "\n",
        "To answer these questions, it can help to review the <a href=\"https://www.google.com/maps/place/Boulder,+CO/@18.3736306,-81.2965677,3.85z/data=!4m5!3m4!1s0x876b8d4e278dafd3:0xc8393b7ca01b8058!8m2!3d40.0149856!4d-105.2705456\" target = \"_blank\">location of Boulder Colorado on Google Maps</a>. \n"
      ]
    },
    {
      "cell_type": "markdown",
      "metadata": {
        "deletable": false,
        "nbgrader": {
          "cell_type": "markdown",
          "checksum": "4f3a73fe0c1712974c44d8531307384b",
          "grade": true,
          "grade_id": "student-explain-plot-answer",
          "locked": false,
          "points": 10,
          "schema_version": 3,
          "solution": true
        },
        "id": "cr0M1N0Wdyln"
      },
      "source": [
        "YOUR ANSWER HERE"
      ]
    },
    {
      "cell_type": "markdown",
      "metadata": {
        "id": "uLzrl5oIdyln"
      },
      "source": [
        "<img style=\"float: left;\" src=\"https://github.com/rmarowitz/bootcamp-02-get-started-python-template/blob/main/colored-bar.png?raw=1\"/>"
      ]
    },
    {
      "cell_type": "markdown",
      "metadata": {
        "deletable": false,
        "editable": false,
        "nbgrader": {
          "cell_type": "markdown",
          "checksum": "b1fbe5f87a4f54724a34b4437eaa1c0b",
          "grade": false,
          "grade_id": "pep8-instructions",
          "locked": true,
          "points": 10,
          "schema_version": 3,
          "solution": false,
          "task": true
        },
        "id": "0Uk4_z29dyln"
      },
      "source": [
        "## PEP 8 Challenge (10 points)\n",
        "\n",
        "Look closely at the code in the cell below. List 3 things that are not PEP 8 compliant."
      ]
    },
    {
      "cell_type": "code",
      "execution_count": null,
      "metadata": {
        "deletable": false,
        "editable": false,
        "nbgrader": {
          "cell_type": "code",
          "checksum": "2e2caa6999dbcb20cfa5df1591ce0409",
          "grade": false,
          "grade_id": "pep8-problem",
          "locked": true,
          "schema_version": 3,
          "solution": false,
          "task": false
        },
        "id": "360rhdgqdyln"
      },
      "outputs": [],
      "source": [
        "#calculate total precipitation (inches)\n",
        "Precip = 1+.5\n",
        " Precip=2+.01+1\n",
        "Precip"
      ]
    },
    {
      "cell_type": "markdown",
      "metadata": {
        "deletable": false,
        "nbgrader": {
          "cell_type": "markdown",
          "checksum": "5770cde58cf47bd5c62790b9b6a158c9",
          "grade": true,
          "grade_id": "pep8-answer",
          "locked": false,
          "points": 0,
          "schema_version": 3,
          "solution": true,
          "task": false
        },
        "id": "UIhJq82udyln"
      },
      "source": [
        "YOUR ANSWER HERE"
      ]
    },
    {
      "cell_type": "markdown",
      "metadata": {
        "deletable": false,
        "editable": false,
        "nbgrader": {
          "cell_type": "markdown",
          "checksum": "cc19b6667727f9684ac711d8aa0f0802",
          "grade": false,
          "grade_id": "question-explain-pep-8",
          "locked": true,
          "schema_version": 3,
          "solution": false,
          "task": false
        },
        "id": "K_C_5hqUdylo"
      },
      "source": [
        "## Discuss Use of PEP 8 Style Guide\n",
        "\n",
        "In the Markdown cell below, answer the following questions about the PEP 8 style guide using a **bullet list**:\n",
        "\n",
        "1. How did the PEP 8 style guide influence your choice of variable names and your code organization in this assignment?\n",
        "\n",
        "2. Describe one way in which these standards are promoted and/or enforced within the `Python` community.\n",
        "\n",
        "Remove any existing text in the cell before adding your answer."
      ]
    },
    {
      "cell_type": "markdown",
      "metadata": {
        "deletable": false,
        "nbgrader": {
          "cell_type": "markdown",
          "checksum": "44844bab616fdc807c58cbf7527548d1",
          "grade": true,
          "grade_id": "student-explain-pep-8",
          "locked": false,
          "points": 10,
          "schema_version": 3,
          "solution": true,
          "task": false
        },
        "id": "QJ_gEbRwdylo"
      },
      "source": [
        "YOUR ANSWER HERE"
      ]
    },
    {
      "cell_type": "markdown",
      "metadata": {
        "id": "Ve_gxVFWdylo"
      },
      "source": [
        "<img style=\"float: left;\" src=\"https://github.com/rmarowitz/bootcamp-02-get-started-python-template/blob/main/colored-bar.png?raw=1\"/>"
      ]
    },
    {
      "cell_type": "markdown",
      "metadata": {
        "deletable": false,
        "editable": false,
        "nbgrader": {
          "cell_type": "markdown",
          "checksum": "528b659503326e3f3b91f0ee6f7bf4f5",
          "grade": false,
          "grade_id": "bonus-instructions",
          "locked": true,
          "schema_version": 3,
          "solution": false,
          "task": false
        },
        "id": "0JxTQUj_dylo"
      },
      "source": [
        "<div class=\"notice--warning\" markdown=\"1\">\n",
        "\n",
        "## <i class=\"fa fa-pencil-square-o\" aria-hidden=\"true\"></i> BONUS Challenge: List Comprehensions in Python (OPTIONAL)\n",
        "\n",
        "**This activity is optional!**\n",
        "\n",
        "Above you performed many tasks manually. Included in those manual steps was one \n",
        "where you converted each individual value in your list from Fahrenheit to Celsius.\n",
        "In **Python**, list comprehensions are a great way to perform operations on a sequence \n",
        "of values stored within a list. \n",
        "\n",
        "The syntax for a list comprehension is below. Essentially what is happening is that \n",
        "Python is iterating through each value in the old list (`for i in my_old_list`) and \n",
        "multiplying it by 2 (`i*2`). In each iteration of the loop, the value `i` represents \n",
        "the next value in the list. In the example below, `i` will first be the value 1, \n",
        "and then 2, and finally 3.\n",
        "\n",
        "\n",
        "```python\n",
        "my_old_list = [1, 2, 3]\n",
        "my_new_list = [i *2 for i in my_old_list] \n",
        "```\n",
        "\n",
        "`my_new_list` will equal each value in `my_old_list` multiplied by 2, so `my_new_list` \n",
        "will be equivalent to `[2, 4, 6]`. You can run this code and see the output for yourself!\n",
        "Try to experiment with writing more efficient code. Convert your `boulder_precip_inches` \n",
        "list of values to a new list called `boulder_precip_mm` using a list comprehension. Use \n",
        "the syntax above to help you create this list comprehension.\n",
        "\n",
        "### Your Challenge If You Chose to Accept It\n",
        "\n",
        "The code below creates a list object called temp_fah that stores 6 temperature values in degrees\n",
        "Fahrenheit. \n",
        "\n",
        "`temp_fah = [32.0, 35.6, 41.0, 49.2, 57.9, 67.2]`\n",
        "\n",
        "Do the following:\n",
        "\n",
        "1. Copy the code into the code cell below\n",
        "2. Create a list comprehension that creates a new object which contains each value converted into Celsius.\n",
        "3. Call the new list you created at the end of the cell. \n",
        "\n",
        "\n",
        "### Learn More About For Loops and List Comprehensions in Python (OPTIONAL)\n",
        "\n",
        "For more information on loops and changing values within a list, you can check out:\n",
        "\n",
        "* <a href=\"https://www.earthdatascience.org/courses/intro-to-earth-data-science/write-efficient-python-code/loops/\" target=\"_blank\">Earth Lab's lesson introducing loops in Python,</a> and \n",
        "* <a href=\"https://www.earthdatascience.org/courses/intro-to-earth-data-science/write-efficient-python-code/loops/list-comprehensions\" target=\"_blank\">Earth Lab's lesson on list comprehensions in Python.</a>\n",
        "\n",
        "</div>"
      ]
    },
    {
      "cell_type": "code",
      "execution_count": null,
      "metadata": {
        "deletable": false,
        "nbgrader": {
          "cell_type": "code",
          "checksum": "5ed192f6118a59a64d70be84b935d8f3",
          "grade": false,
          "grade_id": "bonus-answer",
          "locked": false,
          "schema_version": 3,
          "solution": true,
          "task": false
        },
        "id": "-6KjZ15Idylo"
      },
      "outputs": [],
      "source": [
        "# Add your code here\n",
        "\n",
        "# YOUR CODE HERE\n",
        "raise NotImplementedError()"
      ]
    },
    {
      "cell_type": "code",
      "execution_count": null,
      "metadata": {
        "deletable": false,
        "editable": false,
        "nbgrader": {
          "cell_type": "code",
          "checksum": "decab76f76584b4647007921b082dfd6",
          "grade": true,
          "grade_id": "bonus-tests",
          "locked": true,
          "points": 5,
          "schema_version": 3,
          "solution": false,
          "task": false
        },
        "id": "Ee54OUSRdylo"
      },
      "outputs": [],
      "source": [
        "# DO NOT MODIFY THIS CELL\n",
        "\n",
        "student_temp_cel = _\n",
        "\n",
        "student_temp_cel_points = 0\n",
        "\n",
        "if isinstance(student_temp_cel, list):\n",
        "    print((\"\\u2705 Nice work! The object you called at the end of the cell \"\n",
        "           \"is of type - list\"))\n",
        "    student_temp_cel_points += 1\n",
        "    is_list = True\n",
        "else:\n",
        "    print((\"\\u274C Oops! Did you create a list variable and call it at the \"\n",
        "           \"end of the cell? Please reread the directions.\"))\n",
        "\n",
        "if is_list:\n",
        "    if len(student_temp_cel) == 6:\n",
        "        print((\"\\u2705 Nice work! Your list has the correct number of \"\n",
        "               \"elements\"))\n",
        "        student_temp_cel_points += 1\n",
        "    else:\n",
        "        print((\"\\u274C Oops - your list is not the correct length.\"))\n",
        "\n",
        "    if round(sum(student_temp_cel), 1) == 50.5:\n",
        "        print((\"\\u2705 Your list comprehension output has the correct \"\n",
        "               \"values in it.\"))\n",
        "        student_temp_cel_points += 3\n",
        "    else:\n",
        "        print((\"\\u274C Your list comprehension output does not have the \"\n",
        "               \"correct values in it.\"))\n",
        "\n",
        "print((\"\\n \\u27A1 You received {} out of 5 points for creating a list \"\n",
        "       \"with list comprehension.\"\n",
        "       .format(student_temp_cel_points)))\n",
        "student_temp_cel_points\n"
      ]
    }
  ],
  "metadata": {
    "kernelspec": {
      "display_name": "Python 3 (ipykernel)",
      "language": "python",
      "name": "python3"
    },
    "language_info": {
      "codemirror_mode": {
        "name": "ipython",
        "version": 3
      },
      "file_extension": ".py",
      "mimetype": "text/x-python",
      "name": "python",
      "nbconvert_exporter": "python",
      "pygments_lexer": "ipython3",
      "version": "3.8.12"
    },
    "toc": {
      "base_numbering": 1,
      "nav_menu": {},
      "number_sections": true,
      "sideBar": true,
      "skip_h1_title": true,
      "title_cell": "Table of Contents",
      "title_sidebar": "Contents",
      "toc_cell": false,
      "toc_position": {},
      "toc_section_display": true,
      "toc_window_display": false
    },
    "varInspector": {
      "cols": {
        "lenName": 16,
        "lenType": 16,
        "lenVar": 40
      },
      "kernels_config": {
        "python": {
          "delete_cmd_postfix": "",
          "delete_cmd_prefix": "del ",
          "library": "var_list.py",
          "varRefreshCmd": "print(var_dic_list())"
        },
        "r": {
          "delete_cmd_postfix": ") ",
          "delete_cmd_prefix": "rm(",
          "library": "var_list.r",
          "varRefreshCmd": "cat(var_dic_list()) "
        }
      },
      "position": {
        "height": "322.074px",
        "left": "955.267px",
        "right": "20px",
        "top": "116.997px",
        "width": "785.497px"
      },
      "types_to_exclude": [
        "module",
        "function",
        "builtin_function_or_method",
        "instance",
        "_Feature"
      ],
      "window_display": false
    },
    "colab": {
      "provenance": []
    }
  },
  "nbformat": 4,
  "nbformat_minor": 0
}